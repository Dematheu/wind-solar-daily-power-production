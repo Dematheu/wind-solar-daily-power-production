{
 "cells": [
  {
   "cell_type": "markdown",
   "id": "2f2b46d2-35ff-4d7d-8544-dc31b8e1c87e",
   "metadata": {},
   "source": [
    "# Detectar Outliers:\n",
    "### Neste código, tratamos eventuais Outliers e salvamos em um novo arquivo.\n",
    "##### Uma vez funcionando, adicionei os comandos para o código de tratamento."
   ]
  },
  {
   "cell_type": "code",
   "execution_count": 7,
   "id": "a03f96cd-6c76-4501-a85a-61bf569b79d8",
   "metadata": {
    "tags": []
   },
   "outputs": [],
   "source": [
    "import os\n",
    "import pandas as pd\n",
    "import numpy as np\n",
    "from scipy import stats"
   ]
  },
  {
   "cell_type": "code",
   "execution_count": 8,
   "id": "47687050-03e7-4779-8fd2-b7a41ad5fb3c",
   "metadata": {
    "tags": []
   },
   "outputs": [
    {
     "data": {
      "text/plain": [
       "(59806, 8)"
      ]
     },
     "execution_count": 8,
     "metadata": {},
     "output_type": "execute_result"
    }
   ],
   "source": [
    "class CONFIG:\n",
    "\n",
    "    NAMES_DTYPES = {\n",
    "        \"Source\" : str,\n",
    "        \"Production\" : np.float32\n",
    "    }\n",
    "\n",
    "current_directory = os.getcwd()\n",
    "parent_folder_path = os.path.abspath(os.path.join(current_directory, \".\"))\n",
    "data_folder_path = os.path.join(parent_folder_path, \"data\")\n",
    "file_path = os.path.join(data_folder_path, \"intermittent-renewables-production-france.csv\")\n",
    "data = pd.read_csv(\n",
    "    file_path,\n",
    "    index_col=\"Date and Hour\",\n",
    "    parse_dates=[\"Date and Hour\", \"Date\"],\n",
    "    dtype=CONFIG.NAMES_DTYPES\n",
    ")\n",
    "data.shape"
   ]
  },
  {
   "cell_type": "code",
   "execution_count": 9,
   "id": "285334c0-c935-43e1-bf39-3200bce09539",
   "metadata": {
    "tags": []
   },
   "outputs": [],
   "source": [
    "z_scores = np.abs(stats.zscore(data['Production']))\n",
    "threshold = 3\n",
    "outliers = np.where(z_scores > threshold)"
   ]
  },
  {
   "cell_type": "code",
   "execution_count": 10,
   "id": "e27c91a6-75fd-409a-9dc6-e81586a5b01a",
   "metadata": {
    "tags": []
   },
   "outputs": [],
   "source": [
    "median_production = np.median(data['Production'])\n",
    "data.loc[outliers[0], 'Production'] = median_production"
   ]
  },
  {
   "cell_type": "code",
   "execution_count": 12,
   "id": "6a024304-6296-4e86-9bc0-da45b3db7229",
   "metadata": {
    "tags": []
   },
   "outputs": [],
   "source": [
    "data.to_csv('data/dados_modificados.csv', index=False)\n"
   ]
  },
  {
   "cell_type": "code",
   "execution_count": null,
   "id": "4c88f42d-9aa9-4e08-a111-ee592da4a140",
   "metadata": {},
   "outputs": [],
   "source": []
  }
 ],
 "metadata": {
  "kernelspec": {
   "display_name": "Python 3 (ipykernel)",
   "language": "python",
   "name": "python3"
  },
  "language_info": {
   "codemirror_mode": {
    "name": "ipython",
    "version": 3
   },
   "file_extension": ".py",
   "mimetype": "text/x-python",
   "name": "python",
   "nbconvert_exporter": "python",
   "pygments_lexer": "ipython3",
   "version": "3.10.9"
  }
 },
 "nbformat": 4,
 "nbformat_minor": 5
}
