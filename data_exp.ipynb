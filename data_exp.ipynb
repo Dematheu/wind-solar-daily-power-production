{
 "cells": [
  {
   "cell_type": "code",
   "execution_count": 1,
   "id": "0287f543-9f6e-47a5-b557-0fc329ac176b",
   "metadata": {
    "tags": []
   },
   "outputs": [],
   "source": [
    "import os\n",
    "import pandas as pd\n",
    "import numpy as np\n",
    "import matplotlib.pyplot as plt\n",
    "plt.style.use('ggplot')"
   ]
  },
  {
   "cell_type": "code",
   "execution_count": 4,
   "id": "4a5b5879-1850-43e7-8dba-de334ea283b3",
   "metadata": {
    "tags": []
   },
   "outputs": [
    {
     "data": {
      "text/plain": [
       "(59806, 8)"
      ]
     },
     "execution_count": 4,
     "metadata": {},
     "output_type": "execute_result"
    }
   ],
   "source": [
    "class CONFIG:\n",
    "\n",
    "    NAMES_DTYPES = {\n",
    "        \"Source\" : str,\n",
    "        \"Production\" : np.float32\n",
    "    }\n",
    "\n",
    "current_directory = os.getcwd()\n",
    "parent_folder_path = os.path.abspath(os.path.join(current_directory, \".\"))\n",
    "data_folder_path = os.path.join(parent_folder_path, \"data\")\n",
    "file_path = os.path.join(data_folder_path, \"intermittent-renewables-production-france.csv\")\n",
    "data = pd.read_csv(\n",
    "    file_path,\n",
    "    index_col=\"Date and Hour\",\n",
    "    parse_dates=[\"Date and Hour\", \"Date\"],\n",
    "    dtype=CONFIG.NAMES_DTYPES\n",
    ")\n",
    "data.shape"
   ]
  },
  {
   "cell_type": "code",
   "execution_count": 5,
   "id": "b52b6b0e-6a62-480c-846c-4bb7a0965e94",
   "metadata": {
    "tags": []
   },
   "outputs": [
    {
     "data": {
      "text/html": [
       "<div>\n",
       "<style scoped>\n",
       "    .dataframe tbody tr th:only-of-type {\n",
       "        vertical-align: middle;\n",
       "    }\n",
       "\n",
       "    .dataframe tbody tr th {\n",
       "        vertical-align: top;\n",
       "    }\n",
       "\n",
       "    .dataframe thead th {\n",
       "        text-align: right;\n",
       "    }\n",
       "</style>\n",
       "<table border=\"1\" class=\"dataframe\">\n",
       "  <thead>\n",
       "    <tr style=\"text-align: right;\">\n",
       "      <th></th>\n",
       "      <th>Date</th>\n",
       "      <th>StartHour</th>\n",
       "      <th>EndHour</th>\n",
       "      <th>Source</th>\n",
       "      <th>Production</th>\n",
       "      <th>dayOfYear</th>\n",
       "      <th>dayName</th>\n",
       "      <th>monthName</th>\n",
       "    </tr>\n",
       "    <tr>\n",
       "      <th>Date and Hour</th>\n",
       "      <th></th>\n",
       "      <th></th>\n",
       "      <th></th>\n",
       "      <th></th>\n",
       "      <th></th>\n",
       "      <th></th>\n",
       "      <th></th>\n",
       "      <th></th>\n",
       "    </tr>\n",
       "  </thead>\n",
       "  <tbody>\n",
       "    <tr>\n",
       "      <th>2020-07-22 20:00:00+02:00</th>\n",
       "      <td>2020-07-22</td>\n",
       "      <td>20:00:00</td>\n",
       "      <td>21:00:00</td>\n",
       "      <td>Solar</td>\n",
       "      <td>244.0</td>\n",
       "      <td>204</td>\n",
       "      <td>Wednesday</td>\n",
       "      <td>July</td>\n",
       "    </tr>\n",
       "    <tr>\n",
       "      <th>2020-07-23 07:00:00+02:00</th>\n",
       "      <td>2020-07-23</td>\n",
       "      <td>07:00:00</td>\n",
       "      <td>08:00:00</td>\n",
       "      <td>Solar</td>\n",
       "      <td>223.0</td>\n",
       "      <td>205</td>\n",
       "      <td>Thursday</td>\n",
       "      <td>July</td>\n",
       "    </tr>\n",
       "    <tr>\n",
       "      <th>2020-07-23 16:00:00+02:00</th>\n",
       "      <td>2020-07-23</td>\n",
       "      <td>16:00:00</td>\n",
       "      <td>17:00:00</td>\n",
       "      <td>Solar</td>\n",
       "      <td>2517.0</td>\n",
       "      <td>205</td>\n",
       "      <td>Thursday</td>\n",
       "      <td>July</td>\n",
       "    </tr>\n",
       "    <tr>\n",
       "      <th>2020-07-23 19:00:00+02:00</th>\n",
       "      <td>2020-07-23</td>\n",
       "      <td>19:00:00</td>\n",
       "      <td>20:00:00</td>\n",
       "      <td>Solar</td>\n",
       "      <td>658.0</td>\n",
       "      <td>205</td>\n",
       "      <td>Thursday</td>\n",
       "      <td>July</td>\n",
       "    </tr>\n",
       "    <tr>\n",
       "      <th>2020-07-23 23:00:00+02:00</th>\n",
       "      <td>2020-07-23</td>\n",
       "      <td>23:00:00</td>\n",
       "      <td>24:00:00</td>\n",
       "      <td>Solar</td>\n",
       "      <td>0.0</td>\n",
       "      <td>205</td>\n",
       "      <td>Thursday</td>\n",
       "      <td>July</td>\n",
       "    </tr>\n",
       "  </tbody>\n",
       "</table>\n",
       "</div>"
      ],
      "text/plain": [
       "                                Date StartHour   EndHour Source  Production  \\\n",
       "Date and Hour                                                                 \n",
       "2020-07-22 20:00:00+02:00 2020-07-22  20:00:00  21:00:00  Solar       244.0   \n",
       "2020-07-23 07:00:00+02:00 2020-07-23  07:00:00  08:00:00  Solar       223.0   \n",
       "2020-07-23 16:00:00+02:00 2020-07-23  16:00:00  17:00:00  Solar      2517.0   \n",
       "2020-07-23 19:00:00+02:00 2020-07-23  19:00:00  20:00:00  Solar       658.0   \n",
       "2020-07-23 23:00:00+02:00 2020-07-23  23:00:00  24:00:00  Solar         0.0   \n",
       "\n",
       "                           dayOfYear    dayName monthName  \n",
       "Date and Hour                                              \n",
       "2020-07-22 20:00:00+02:00        204  Wednesday      July  \n",
       "2020-07-23 07:00:00+02:00        205   Thursday      July  \n",
       "2020-07-23 16:00:00+02:00        205   Thursday      July  \n",
       "2020-07-23 19:00:00+02:00        205   Thursday      July  \n",
       "2020-07-23 23:00:00+02:00        205   Thursday      July  "
      ]
     },
     "execution_count": 5,
     "metadata": {},
     "output_type": "execute_result"
    }
   ],
   "source": [
    "data.head()"
   ]
  },
  {
   "cell_type": "code",
   "execution_count": 6,
   "id": "7aaac9f4-b166-4212-a651-83aa0fb08448",
   "metadata": {
    "tags": []
   },
   "outputs": [
    {
     "name": "stdout",
     "output_type": "stream",
     "text": [
      "Date          0\n",
      "StartHour     0\n",
      "EndHour       0\n",
      "Source        0\n",
      "Production    2\n",
      "dayOfYear     0\n",
      "dayName       0\n",
      "monthName     0\n",
      "dtype: int64\n"
     ]
    }
   ],
   "source": [
    "# Verificar valores ausentes\n",
    "missing_values = data.isnull().sum()\n",
    "\n",
    "# Mostrar a contagem de valores ausentes por coluna\n",
    "print(missing_values)"
   ]
  },
  {
   "cell_type": "code",
   "execution_count": null,
   "id": "99e67304-6cfe-4c08-8328-03d637eb6256",
   "metadata": {},
   "outputs": [],
   "source": []
  }
 ],
 "metadata": {
  "kernelspec": {
   "display_name": "Python 3 (ipykernel)",
   "language": "python",
   "name": "python3"
  },
  "language_info": {
   "codemirror_mode": {
    "name": "ipython",
    "version": 3
   },
   "file_extension": ".py",
   "mimetype": "text/x-python",
   "name": "python",
   "nbconvert_exporter": "python",
   "pygments_lexer": "ipython3",
   "version": "3.10.9"
  }
 },
 "nbformat": 4,
 "nbformat_minor": 5
}
