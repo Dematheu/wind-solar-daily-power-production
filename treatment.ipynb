{
 "cells": [
  {
   "cell_type": "code",
   "execution_count": 1,
   "id": "0287f543-9f6e-47a5-b557-0fc329ac176b",
   "metadata": {
    "tags": []
   },
   "outputs": [],
   "source": [
    "import os\n",
    "import pandas as pd\n",
    "import numpy as np\n",
    "import seaborn as sns\n",
    "import matplotlib.pyplot as plt\n",
    "from statsmodels.tsa.statespace.sarimax import SARIMAX\n",
    "from tqdm import tqdm\n",
    "plt.style.use('ggplot')"
   ]
  },
  {
   "cell_type": "code",
   "execution_count": 2,
   "id": "4a5b5879-1850-43e7-8dba-de334ea283b3",
   "metadata": {
    "tags": []
   },
   "outputs": [
    {
     "data": {
      "text/plain": [
       "(59806, 8)"
      ]
     },
     "execution_count": 2,
     "metadata": {},
     "output_type": "execute_result"
    }
   ],
   "source": [
    "class CONFIG:\n",
    "\n",
    "    NAMES_DTYPES = {\n",
    "        \"Source\" : str,\n",
    "        \"Production\" : np.float32\n",
    "    }\n",
    "\n",
    "current_directory = os.getcwd()\n",
    "parent_folder_path = os.path.abspath(os.path.join(current_directory, \".\"))\n",
    "data_folder_path = os.path.join(parent_folder_path, \"data\")\n",
    "file_path = os.path.join(data_folder_path, \"intermittent-renewables-production-france.csv\")\n",
    "data = pd.read_csv(\n",
    "    file_path,\n",
    "    index_col=\"Date and Hour\",\n",
    "    parse_dates=[\"Date and Hour\", \"Date\"],\n",
    "    dtype=CONFIG.NAMES_DTYPES\n",
    ")\n",
    "data.shape"
   ]
  },
  {
   "cell_type": "code",
   "execution_count": 3,
   "id": "b52b6b0e-6a62-480c-846c-4bb7a0965e94",
   "metadata": {
    "tags": []
   },
   "outputs": [
    {
     "data": {
      "text/html": [
       "<div>\n",
       "<style scoped>\n",
       "    .dataframe tbody tr th:only-of-type {\n",
       "        vertical-align: middle;\n",
       "    }\n",
       "\n",
       "    .dataframe tbody tr th {\n",
       "        vertical-align: top;\n",
       "    }\n",
       "\n",
       "    .dataframe thead th {\n",
       "        text-align: right;\n",
       "    }\n",
       "</style>\n",
       "<table border=\"1\" class=\"dataframe\">\n",
       "  <thead>\n",
       "    <tr style=\"text-align: right;\">\n",
       "      <th></th>\n",
       "      <th>Date</th>\n",
       "      <th>StartHour</th>\n",
       "      <th>EndHour</th>\n",
       "      <th>Source</th>\n",
       "      <th>Production</th>\n",
       "      <th>dayOfYear</th>\n",
       "      <th>dayName</th>\n",
       "      <th>monthName</th>\n",
       "    </tr>\n",
       "    <tr>\n",
       "      <th>Date and Hour</th>\n",
       "      <th></th>\n",
       "      <th></th>\n",
       "      <th></th>\n",
       "      <th></th>\n",
       "      <th></th>\n",
       "      <th></th>\n",
       "      <th></th>\n",
       "      <th></th>\n",
       "    </tr>\n",
       "  </thead>\n",
       "  <tbody>\n",
       "    <tr>\n",
       "      <th>2020-07-22 20:00:00+02:00</th>\n",
       "      <td>2020-07-22</td>\n",
       "      <td>20:00:00</td>\n",
       "      <td>21:00:00</td>\n",
       "      <td>Solar</td>\n",
       "      <td>244.0</td>\n",
       "      <td>204</td>\n",
       "      <td>Wednesday</td>\n",
       "      <td>July</td>\n",
       "    </tr>\n",
       "    <tr>\n",
       "      <th>2020-07-23 07:00:00+02:00</th>\n",
       "      <td>2020-07-23</td>\n",
       "      <td>07:00:00</td>\n",
       "      <td>08:00:00</td>\n",
       "      <td>Solar</td>\n",
       "      <td>223.0</td>\n",
       "      <td>205</td>\n",
       "      <td>Thursday</td>\n",
       "      <td>July</td>\n",
       "    </tr>\n",
       "    <tr>\n",
       "      <th>2020-07-23 16:00:00+02:00</th>\n",
       "      <td>2020-07-23</td>\n",
       "      <td>16:00:00</td>\n",
       "      <td>17:00:00</td>\n",
       "      <td>Solar</td>\n",
       "      <td>2517.0</td>\n",
       "      <td>205</td>\n",
       "      <td>Thursday</td>\n",
       "      <td>July</td>\n",
       "    </tr>\n",
       "    <tr>\n",
       "      <th>2020-07-23 19:00:00+02:00</th>\n",
       "      <td>2020-07-23</td>\n",
       "      <td>19:00:00</td>\n",
       "      <td>20:00:00</td>\n",
       "      <td>Solar</td>\n",
       "      <td>658.0</td>\n",
       "      <td>205</td>\n",
       "      <td>Thursday</td>\n",
       "      <td>July</td>\n",
       "    </tr>\n",
       "    <tr>\n",
       "      <th>2020-07-23 23:00:00+02:00</th>\n",
       "      <td>2020-07-23</td>\n",
       "      <td>23:00:00</td>\n",
       "      <td>24:00:00</td>\n",
       "      <td>Solar</td>\n",
       "      <td>0.0</td>\n",
       "      <td>205</td>\n",
       "      <td>Thursday</td>\n",
       "      <td>July</td>\n",
       "    </tr>\n",
       "  </tbody>\n",
       "</table>\n",
       "</div>"
      ],
      "text/plain": [
       "                                Date StartHour   EndHour Source  Production  \\\n",
       "Date and Hour                                                                 \n",
       "2020-07-22 20:00:00+02:00 2020-07-22  20:00:00  21:00:00  Solar       244.0   \n",
       "2020-07-23 07:00:00+02:00 2020-07-23  07:00:00  08:00:00  Solar       223.0   \n",
       "2020-07-23 16:00:00+02:00 2020-07-23  16:00:00  17:00:00  Solar      2517.0   \n",
       "2020-07-23 19:00:00+02:00 2020-07-23  19:00:00  20:00:00  Solar       658.0   \n",
       "2020-07-23 23:00:00+02:00 2020-07-23  23:00:00  24:00:00  Solar         0.0   \n",
       "\n",
       "                           dayOfYear    dayName monthName  \n",
       "Date and Hour                                              \n",
       "2020-07-22 20:00:00+02:00        204  Wednesday      July  \n",
       "2020-07-23 07:00:00+02:00        205   Thursday      July  \n",
       "2020-07-23 16:00:00+02:00        205   Thursday      July  \n",
       "2020-07-23 19:00:00+02:00        205   Thursday      July  \n",
       "2020-07-23 23:00:00+02:00        205   Thursday      July  "
      ]
     },
     "execution_count": 3,
     "metadata": {},
     "output_type": "execute_result"
    }
   ],
   "source": [
    "data.head()"
   ]
  },
  {
   "cell_type": "code",
   "execution_count": 4,
   "id": "7aaac9f4-b166-4212-a651-83aa0fb08448",
   "metadata": {
    "tags": []
   },
   "outputs": [
    {
     "name": "stdout",
     "output_type": "stream",
     "text": [
      "Date          0\n",
      "StartHour     0\n",
      "EndHour       0\n",
      "Source        0\n",
      "Production    2\n",
      "dayOfYear     0\n",
      "dayName       0\n",
      "monthName     0\n",
      "dtype: int64\n"
     ]
    }
   ],
   "source": [
    "# Verificando valores ausentes:\n",
    "missing_values = data.isnull().sum()\n",
    "\n",
    "# Mostrar a contagem de valores ausentes por coluna:\n",
    "print(missing_values)"
   ]
  },
  {
   "cell_type": "code",
   "execution_count": 5,
   "id": "99e67304-6cfe-4c08-8328-03d637eb6256",
   "metadata": {
    "tags": []
   },
   "outputs": [
    {
     "name": "stdout",
     "output_type": "stream",
     "text": [
      "Valor médio da coluna Production: 2792.8596\n",
      "Valores ausentes preenchidos com valor médio.\n"
     ]
    }
   ],
   "source": [
    "# Preenchendo os valores ausentes da coluna \"Production\" com a média:\n",
    "mean_production = data[\"Production\"].mean()\n",
    "data[\"Production\"].fillna(mean_production, inplace=True)\n",
    "print('Valor médio da coluna Production:', mean_production)\n",
    "print('Valores ausentes preenchidos com valor médio.')"
   ]
  },
  {
   "cell_type": "code",
   "execution_count": 7,
   "id": "d766b87b-0458-4fe4-a806-de4bad73df89",
   "metadata": {
    "tags": []
   },
   "outputs": [
    {
     "name": "stdout",
     "output_type": "stream",
     "text": [
      "['Wednesday' 'Thursday' 'Friday' 'Saturday' 'Sunday' 'Monday' 'Tuesday']\n"
     ]
    }
   ],
   "source": [
    "day_name_verifier = data['dayName'].unique()\n",
    "print(day_name_verifier)"
   ]
  },
  {
   "cell_type": "code",
   "execution_count": 8,
   "id": "634ca6eb-80cf-4514-8428-16dc820a6a35",
   "metadata": {
    "tags": []
   },
   "outputs": [
    {
     "name": "stdout",
     "output_type": "stream",
     "text": [
      "['Solar' 'Wind']\n"
     ]
    }
   ],
   "source": [
    "source_verifier = data['Source'].unique()\n",
    "print(source_verifier)"
   ]
  },
  {
   "cell_type": "code",
   "execution_count": 10,
   "id": "b5621159-e2e5-4ca4-acf0-24f9ef462b66",
   "metadata": {
    "tags": []
   },
   "outputs": [
    {
     "name": "stdout",
     "output_type": "stream",
     "text": [
      "Valores únicos da coluna 'Date': <DatetimeArray>\n",
      "['2020-07-22 00:00:00', '2020-07-23 00:00:00', '2020-07-24 00:00:00',\n",
      " '2020-07-25 00:00:00', '2020-07-26 00:00:00', '2020-07-27 00:00:00',\n",
      " '2020-07-28 00:00:00', '2020-07-29 00:00:00', '2020-07-30 00:00:00',\n",
      " '2020-07-31 00:00:00',\n",
      " ...\n",
      " '2023-06-21 00:00:00', '2023-06-22 00:00:00', '2023-06-23 00:00:00',\n",
      " '2023-06-24 00:00:00', '2023-06-25 00:00:00', '2023-06-26 00:00:00',\n",
      " '2023-06-27 00:00:00', '2023-06-28 00:00:00', '2023-06-29 00:00:00',\n",
      " '2023-06-30 00:00:00']\n",
      "Length: 1246, dtype: datetime64[ns]\n",
      "Valores únicos da coluna 'StartHour': ['20:00:00' '07:00:00' '16:00:00' '19:00:00' '23:00:00' '01:00:00'\n",
      " '04:00:00' '05:00:00' '10:00:00' '14:00:00' '06:00:00' '08:00:00'\n",
      " '21:00:00' '03:00:00' '18:00:00' '22:00:00' '00:00:00' '09:00:00'\n",
      " '13:00:00' '11:00:00' '15:00:00' '02:00:00' '17:00:00' '12:00:00']\n",
      "Valores únicos da coluna 'EndHour': ['21:00:00' '08:00:00' '17:00:00' '20:00:00' '24:00:00' '02:00:00'\n",
      " '05:00:00' '06:00:00' '11:00:00' '15:00:00' '07:00:00' '09:00:00'\n",
      " '22:00:00' '04:00:00' '19:00:00' '23:00:00' '01:00:00' '10:00:00'\n",
      " '14:00:00' '12:00:00' '16:00:00' '03:00:00' '18:00:00' '13:00:00']\n",
      "Valores únicos da coluna 'Source': ['Solar' 'Wind']\n",
      "Valores únicos da coluna 'Production': [ 244.  223. 2517. ... 6282. 5556. 6259.]\n",
      "Valores únicos da coluna 'dayOfYear': [204 205 206 207 208 209 210 211 212 213 214 215 216 217 218 219 220 221\n",
      " 222 223 224 225 226   1 227   2 228   3   4 229   5 230 231   6   7 232\n",
      " 233 234   8 235   9 236  10 237  11 238  12 239 240 241  13 242  14 243\n",
      "  15 244  16  17  18  19  20  21  22  23  24  25  26  27  28  29  30  31\n",
      " 245 246 247 248 249 250 251 252 253 254 255 256 257  32  33 258  34 259\n",
      "  35 260  36 261 262  37 263  38 264  39 265 266  40 267  41 268  42 269\n",
      "  43 270  44 271  45  46  47 272  48 273  49 274  50  51  52  53  54  55\n",
      "  56  57  58  59  60 275 276 277 278 279  92  93 280 281 282  94  95 283\n",
      " 284  96 285 286  97  98 287  99 288 100 289 101 290 102 291 103 292 104\n",
      " 293 105 294 295 106 107 296 297 108 298 109 299 110 300 111 112 301 302\n",
      " 113 303 114 115 304 116 305 117 118 119 120 121 306 122 307 123 308 124\n",
      " 309 125 310 126 127 311 128 129 312 130 313 314 131 132 315 133 134 316\n",
      " 135 317 136 318 137 319 138 320 139 321 140 322 141 323 324 325 142 326\n",
      " 143 327 144 328 145 329 147 330 148 331 332 149 333 334 150 335 151 152\n",
      " 146 153 336 337 154 155 338 339 156 340 157 341 158 342 343 159 344 160\n",
      " 345 346 161 347 348 162 349 163 350 164 351 165 352 166 353 354 167 355\n",
      " 168 356 169 357 170 358 171 359 172 173 174 360 175 176 361 177 362 178\n",
      " 363 179 364 365 180 366 181 182 183 184 185 186 187 188 189 190 191 192\n",
      " 193 194 195 196 197 198 199 200 201 202 203  91  61  62  63  64  65  66\n",
      "  67  68  69  70  71  72  73  74  75  76  77  78  79  80  81  82  83  84\n",
      "  85  86  87  88  89  90]\n",
      "Valores únicos da coluna 'dayName': ['Wednesday' 'Thursday' 'Friday' 'Saturday' 'Sunday' 'Monday' 'Tuesday']\n",
      "Valores únicos da coluna 'monthName': ['July' 'August' 'January' 'September' 'February' 'October' 'April'\n",
      " 'November' 'May' 'June' 'December' 'March']\n"
     ]
    }
   ],
   "source": [
    "for column in data.columns:\n",
    "    unique_values = data[column].unique()\n",
    "    print(f\"Valores únicos da coluna '{column}': {unique_values}\")"
   ]
  },
  {
   "cell_type": "code",
   "execution_count": 14,
   "id": "9a13f325-1cf9-42d3-92c7-3afad650cb19",
   "metadata": {
    "tags": []
   },
   "outputs": [],
   "source": [
    "# Exportar DataFrame tratado para CSV\n",
    "output_folder_path = os.path.dirname(file_path)\n",
    "novo_nome_arquivo_csv = \"tratado.csv\"\n",
    "data.to_csv(os.path.join(output_folder_path, novo_nome_arquivo_csv), index=False)"
   ]
  },
  {
   "cell_type": "code",
   "execution_count": null,
   "id": "a13877a1-3bef-46f5-90c9-4c11709a8e10",
   "metadata": {},
   "outputs": [],
   "source": []
  }
 ],
 "metadata": {
  "kernelspec": {
   "display_name": "Python 3 (ipykernel)",
   "language": "python",
   "name": "python3"
  },
  "language_info": {
   "codemirror_mode": {
    "name": "ipython",
    "version": 3
   },
   "file_extension": ".py",
   "mimetype": "text/x-python",
   "name": "python",
   "nbconvert_exporter": "python",
   "pygments_lexer": "ipython3",
   "version": "3.10.9"
  }
 },
 "nbformat": 4,
 "nbformat_minor": 5
}
